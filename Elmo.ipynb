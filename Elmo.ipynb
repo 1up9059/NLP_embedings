{
 "cells": [
  {
   "cell_type": "code",
   "execution_count": 3,
   "id": "7dbc8ea7-7f9a-4eca-af6c-7db386cb3677",
   "metadata": {
    "tags": []
   },
   "outputs": [
    {
     "ename": "ModuleNotFoundError",
     "evalue": "No module named 'tokeniuzers'",
     "output_type": "error",
     "traceback": [
      "\u001b[1;31m---------------------------------------------------------------------------\u001b[0m",
      "\u001b[1;31mModuleNotFoundError\u001b[0m                       Traceback (most recent call last)",
      "Cell \u001b[1;32mIn[3], line 1\u001b[0m\n\u001b[1;32m----> 1\u001b[0m \u001b[38;5;28;01mfrom\u001b[39;00m \u001b[38;5;21;01mtokeniuzers\u001b[39;00m \u001b[38;5;28;01mimport\u001b[39;00m BertWordPieceTokenizer\n",
      "\u001b[1;31mModuleNotFoundError\u001b[0m: No module named 'tokeniuzers'"
     ]
    }
   ],
   "source": [
    "from tokeniuzers import BertWordPieceTokenizer"
   ]
  },
  {
   "cell_type": "code",
   "execution_count": null,
   "id": "6c2699a6-87e7-4ee7-a3d8-6c363244e8b1",
   "metadata": {},
   "outputs": [],
   "source": []
  }
 ],
 "metadata": {
  "kernelspec": {
   "display_name": "Python 3 (ipykernel)",
   "language": "python",
   "name": "python3"
  },
  "language_info": {
   "codemirror_mode": {
    "name": "ipython",
    "version": 3
   },
   "file_extension": ".py",
   "mimetype": "text/x-python",
   "name": "python",
   "nbconvert_exporter": "python",
   "pygments_lexer": "ipython3",
   "version": "3.11.5"
  }
 },
 "nbformat": 4,
 "nbformat_minor": 5
}
